{
 "cells": [
  {
   "cell_type": "code",
   "execution_count": 1,
   "metadata": {},
   "outputs": [],
   "source": [
    "import numpy as np\n",
    "import pandas as pd\n",
    "import matplotlib.pyplot as plt\n",
    "import os\n",
    "import json\n",
    "import cv2\n",
    "from tqdm import tqdm\n",
    "from pycocotools import mask as cocomask"
   ]
  },
  {
   "cell_type": "code",
   "execution_count": 2,
   "metadata": {},
   "outputs": [
    {
     "name": "stdout",
     "output_type": "stream",
     "text": [
      "CURRENT_PATH:  c:/Users/david/OneDrive/Documents/GitHub/TextualSegFormer\n",
      "DATASET_JSON_PATH:  c:/Users/david/OneDrive/Documents/GitHub/TextualSegFormer/Dataset/annotations_trainval2017/annotations/\n",
      "DATASET_TRAIN_IMAGES_PATH:  c:/Users/david/OneDrive/Documents/GitHub/TextualSegFormer/Dataset/train2017\n",
      "DATASET_VAL_IMAGES_PATH:  c:/Users/david/OneDrive/Documents/GitHub/TextualSegFormer/Dataset/val2017\n",
      "DATASET_TEST_IMAGES_PATH:  c:/Users/david/OneDrive/Documents/GitHub/TextualSegFormer/Dataset/test2017\n"
     ]
    }
   ],
   "source": [
    "CURRENT_PATH = os.getcwd()\n",
    "CURRENT_PATH = CURRENT_PATH.replace('\\\\', '/')\n",
    "\n",
    "DATASET_STUFF_JSON_PATH = CURRENT_PATH + '/Dataset/stuff_annotations_trainval2017/annotations/'\n",
    "DATASET_JSON_PATH = CURRENT_PATH + '/Dataset/annotations_trainval2017/annotations/'\n",
    "\n",
    "DATASET_TRAIN_IMAGES_PATH = CURRENT_PATH + '/Dataset/train2017'\n",
    "DATASET_VAL_IMAGES_PATH = CURRENT_PATH + '/Dataset/val2017'\n",
    "DATASET_TEST_IMAGES_PATH = CURRENT_PATH + '/Dataset/test2017'\n",
    "\n",
    "print('CURRENT_PATH: ', CURRENT_PATH)\n",
    "print('DATASET_JSON_PATH: ', DATASET_JSON_PATH)\n",
    "print('DATASET_TRAIN_IMAGES_PATH: ', DATASET_TRAIN_IMAGES_PATH)\n",
    "print('DATASET_VAL_IMAGES_PATH: ', DATASET_VAL_IMAGES_PATH)\n",
    "print('DATASET_TEST_IMAGES_PATH: ', DATASET_TEST_IMAGES_PATH)"
   ]
  },
  {
   "cell_type": "code",
   "execution_count": 3,
   "metadata": {},
   "outputs": [
    {
     "name": "stdout",
     "output_type": "stream",
     "text": [
      "c:/Users/david/OneDrive/Documents/GitHub/TextualSegFormer/ProcessedDatasetStuff512/images\n",
      "c:/Users/david/OneDrive/Documents/GitHub/TextualSegFormer/ProcessedDatasetStuff512/masks\n",
      "c:/Users/david/OneDrive/Documents/GitHub/TextualSegFormer/ProcessedDatasetStuff512/csv\n"
     ]
    }
   ],
   "source": [
    "IMAGES_PATH = CURRENT_PATH + '/ProcessedDatasetStuff512/images'\n",
    "MASKS_PATH = CURRENT_PATH + '/ProcessedDatasetStuff512/masks'\n",
    "CSV_PATH = CURRENT_PATH + '/ProcessedDatasetStuff512/csv'\n",
    "\n",
    "print(IMAGES_PATH)\n",
    "print(MASKS_PATH)\n",
    "print(CSV_PATH)"
   ]
  },
  {
   "cell_type": "code",
   "execution_count": 4,
   "metadata": {},
   "outputs": [],
   "source": [
    "instances_stuff_path_train = DATASET_STUFF_JSON_PATH + 'stuff_train2017.json'\n",
    "instances_stuff_path_val = DATASET_STUFF_JSON_PATH + 'stuff_val2017.json'\n",
    "\n",
    "instances_path_train = DATASET_JSON_PATH + 'instances_train2017.json'\n",
    "instances_path_val = DATASET_JSON_PATH + 'instances_val2017.json'"
   ]
  },
  {
   "cell_type": "code",
   "execution_count": 5,
   "metadata": {},
   "outputs": [],
   "source": [
    "with open(instances_stuff_path_train) as f:\n",
    "    instances_stuff_train_json = json.load(f)\n",
    "with open(instances_stuff_path_val) as f:\n",
    "    instances_stuff_val_json = json.load(f)\n",
    "\n",
    "with open(instances_path_train) as f:\n",
    "    instances_train_json = json.load(f)\n",
    "with open(instances_path_val) as f:\n",
    "    instances_val_json = json.load(f)\n",
    "\n",
    "with open(CURRENT_PATH + '/labels.json') as f:\n",
    "    categories_dict = json.load(f)"
   ]
  },
  {
   "cell_type": "code",
   "execution_count": 6,
   "metadata": {},
   "outputs": [
    {
     "name": "stdout",
     "output_type": "stream",
     "text": [
      "171\n",
      "Number of classes:  172\n"
     ]
    }
   ],
   "source": [
    "base_class = [0, 1, 2, 3, 4, 5, 6, 7, 8, 9, 10, 11, 12, 13, 14, 15, 16, 17, 18, \n",
    "20, 21, 22, 24, 25, 26, 27, 30, 31, 32, 33, 34, 35, 37, 38, 39, 40, 41, 42, 43, \n",
    "44, 45, 46, 47, 48, 49, 50, 52, 53, 54, 55, 56, 57, 58, 59, 60, 61, 62, 63, 64, \n",
    "65, 66, 67, 68, 69, 70, 71, 72, 73, 74, 75, 77, 78, 79, 80, 81, 82, 83, 84, 85, \n",
    "86, 87, 89, 90, 91, 92, 93, 95, 96, 97, 98,  99, 100, 101, 102, 103, 104, 105, \n",
    "106, 107, 108, 109, 110, 111, 113, 114, 115, 116, 117, 118, 119, 120, 121, 122, \n",
    "123, 124, 125, 126, 127, 128, 129, 130, 131, 132, 134, 135, 138, 139, 140, 141, \n",
    "142, 143, 144, 145, 146, 147, 148, 149, 150, 151, 152, 153, 154, 155, 156, 158, \n",
    "159, 161, 162, 163, 164, 165, 166, 167, 168, 169, 170]\n",
    "novel_class = [19, 23, 28, 29, 36, 51, 76, 88, 94, 112, 133, 136, 137, 157, 160]\n",
    "both_class = [0, 1, 2, 3, 4, 5, 6, 7, 8, 9, 10, 11, 12, 13, 14, 15, 16, 17, 18, \n",
    "19, 20, 21, 22, 23, 24, 25, 26, 27, 28, 29, 30, 31, 32, 33, 34, 35, 36, 37, 38, \n",
    "39, 40, 41, 42, 43, 44, 45, 46, 47, 48, 49, 50, 51, 52, 53, 54, 55, 56, 57, 58, \n",
    "59, 60, 61, 62, 63, 64, 65, 66, 67, 68, 69, 70, 71, 72, 73, 74, 75, 76, 77, 78, \n",
    "79, 80, 81, 82, 83, 84, 85, 86, 87, 88, 89, 90, 91, 92, 93, 94, 95, 96, 97, 98, \n",
    "99, 100, 101, 102, 103, 104, 105, 106, 107, 108, 109, 110, 111, 112, 113, 114, \n",
    "115, 116, 117, 118, 119, 120, 121, 122, 123, 124, 125, 126, 127, 128, 129, 130, \n",
    "131, 132, 133, 134, 135, 136, 137, 138, 139, 140, 141, 142, 143, 144, 145, 146, \n",
    "147, 148, 149, 150, 151, 152, 153, 154, 155, 156, 157, 158, 159, 160, 161, 162, \n",
    "163, 164, 165, 166, 167, 168, 169, 170]\n",
    "\n",
    "print(len(both_class))\n",
    "\n",
    "seen_categories = []\n",
    "\n",
    "for i in range(len(instances_val_json['annotations'])):\n",
    "    category_id = instances_val_json['annotations'][i]['category_id']\n",
    "    if category_id not in seen_categories:\n",
    "        seen_categories.append(category_id)\n",
    "\n",
    "for i in range(len(instances_stuff_val_json['annotations'])):\n",
    "    category_id = instances_stuff_val_json['annotations'][i]['category_id']\n",
    "    if category_id not in seen_categories:\n",
    "        seen_categories.append(category_id)\n",
    "\n",
    "print('Number of classes: ', len(seen_categories))"
   ]
  },
  {
   "cell_type": "code",
   "execution_count": 7,
   "metadata": {},
   "outputs": [
    {
     "name": "stdout",
     "output_type": "stream",
     "text": [
      "base_class_names:  ['unlabeled', 'person', 'bicycle', 'car', 'motorcycle', 'airplane', 'bus', 'train', 'truck', 'boat', 'traffic light', 'fire hydrant', 'street sign', 'stop sign', 'parking meter', 'bench', 'bird', 'cat', 'dog', 'sheep', 'cow', 'elephant', 'zebra', 'giraffe', 'hat', 'backpack', 'eye glasses', 'handbag', 'tie', 'suitcase', 'frisbee', 'skis', 'sports ball', 'kite', 'baseball bat', 'baseball glove', 'skateboard', 'surfboard', 'tennis racket', 'bottle', 'plate', 'wine glass', 'cup', 'fork', 'knife', 'spoon', 'banana', 'apple', 'sandwich', 'orange', 'broccoli', 'carrot', 'hot dog', 'pizza', 'donut', 'cake', 'chair', 'couch', 'potted plant', 'bed', 'mirror', 'dining table', 'window', 'desk', 'toilet', 'door', 'tv', 'laptop', 'mouse', 'remote', 'cell phone', 'microwave', 'oven', 'toaster', 'sink', 'refrigerator', 'blender', 'book', 'clock', 'vase', 'scissors', 'hair drier', 'toothbrush', 'hair brush', 'banner', 'blanket', 'bridge', 'building-other', 'bush', 'cabinet', 'cage', 'cardboard', 'carpet', 'ceiling-other', 'ceiling-tile', 'cloth', 'clothes', 'clouds', 'counter', 'cupboard', 'curtain', 'desk-stuff', 'dirt', 'fence', 'floor-marble', 'floor-other', 'floor-stone', 'floor-tile', 'floor-wood', 'flower', 'fog', 'food-other', 'fruit', 'furniture-other', 'grass', 'gravel', 'ground-other', 'hill', 'house', 'leaves', 'light', 'mat', 'metal', 'moss', 'mountain', 'net', 'paper', 'pavement', 'pillow', 'plant-other', 'plastic', 'platform', 'playingfield', 'railing', 'railroad', 'river', 'road', 'rock', 'roof', 'rug', 'salad', 'sand', 'sea', 'shelf', 'skyscraper', 'snow', 'stairs', 'stone', 'straw', 'structural-other', 'table', 'tent', 'textile-other', 'towel', 'tree', 'vegetable']\n",
      "novel_class_names:  ['horse', 'bear', 'umbrella', 'shoe', 'snowboard', 'bowl', 'keyboard', 'teddy bear', 'branch', 'door-stuff', 'mirror-stuff', 'mud', 'napkin', 'sky-other', 'solid-other']\n",
      "both_class_names:  ['unlabeled', 'person', 'bicycle', 'car', 'motorcycle', 'airplane', 'bus', 'train', 'truck', 'boat', 'traffic light', 'fire hydrant', 'street sign', 'stop sign', 'parking meter', 'bench', 'bird', 'cat', 'dog', 'horse', 'sheep', 'cow', 'elephant', 'bear', 'zebra', 'giraffe', 'hat', 'backpack', 'umbrella', 'shoe', 'eye glasses', 'handbag', 'tie', 'suitcase', 'frisbee', 'skis', 'snowboard', 'sports ball', 'kite', 'baseball bat', 'baseball glove', 'skateboard', 'surfboard', 'tennis racket', 'bottle', 'plate', 'wine glass', 'cup', 'fork', 'knife', 'spoon', 'bowl', 'banana', 'apple', 'sandwich', 'orange', 'broccoli', 'carrot', 'hot dog', 'pizza', 'donut', 'cake', 'chair', 'couch', 'potted plant', 'bed', 'mirror', 'dining table', 'window', 'desk', 'toilet', 'door', 'tv', 'laptop', 'mouse', 'remote', 'keyboard', 'cell phone', 'microwave', 'oven', 'toaster', 'sink', 'refrigerator', 'blender', 'book', 'clock', 'vase', 'scissors', 'teddy bear', 'hair drier', 'toothbrush', 'hair brush', 'banner', 'blanket', 'branch', 'bridge', 'building-other', 'bush', 'cabinet', 'cage', 'cardboard', 'carpet', 'ceiling-other', 'ceiling-tile', 'cloth', 'clothes', 'clouds', 'counter', 'cupboard', 'curtain', 'desk-stuff', 'dirt', 'door-stuff', 'fence', 'floor-marble', 'floor-other', 'floor-stone', 'floor-tile', 'floor-wood', 'flower', 'fog', 'food-other', 'fruit', 'furniture-other', 'grass', 'gravel', 'ground-other', 'hill', 'house', 'leaves', 'light', 'mat', 'metal', 'mirror-stuff', 'moss', 'mountain', 'mud', 'napkin', 'net', 'paper', 'pavement', 'pillow', 'plant-other', 'plastic', 'platform', 'playingfield', 'railing', 'railroad', 'river', 'road', 'rock', 'roof', 'rug', 'salad', 'sand', 'sea', 'shelf', 'sky-other', 'skyscraper', 'snow', 'solid-other', 'stairs', 'stone', 'straw', 'structural-other', 'table', 'tent', 'textile-other', 'towel', 'tree', 'vegetable']\n"
     ]
    }
   ],
   "source": [
    "base_class_names = []\n",
    "novel_class_names = []\n",
    "both_class_names = []\n",
    "\n",
    "for i in range(len(base_class)):\n",
    "    base_class_names.append(categories_dict[str(base_class[i])])\n",
    "\n",
    "for i in range(len(novel_class)):\n",
    "    novel_class_names.append(categories_dict[str(novel_class[i])])\n",
    "\n",
    "for i in range(len(both_class)):\n",
    "    both_class_names.append(categories_dict[str(both_class[i])])\n",
    "\n",
    "print('base_class_names: ', base_class_names)\n",
    "print('novel_class_names: ', novel_class_names)\n",
    "print('both_class_names: ', both_class_names)"
   ]
  },
  {
   "cell_type": "code",
   "execution_count": 8,
   "metadata": {},
   "outputs": [],
   "source": [
    "def fill_zeros_id(id):\n",
    "    str_id = str(id)\n",
    "    str_id = '0'*(12-len(str_id)) + str_id\n",
    "    return str(str_id)\n",
    "\n",
    "def join_mask_annotations(instances_json):\n",
    "    images_annotations = {}\n",
    "    for i in range(len(instances_json['annotations'])):\n",
    "        idx = fill_zeros_id(instances_json['annotations'][i]['image_id'])\n",
    "        category_id = instances_json['annotations'][i]['category_id']\n",
    "        if idx not in images_annotations:\n",
    "            images_annotations[idx] = {}\n",
    "        if category_id not in images_annotations[idx]:\n",
    "            images_annotations[idx][category_id] = []\n",
    "        images_annotations[idx][category_id].append(instances_json['annotations'][i])\n",
    "\n",
    "    return images_annotations\n",
    "\n",
    "def save_img(mask, path):\n",
    "    mask = cv2.resize(mask, (512, 512))\n",
    "    mask = cv2.cvtColor(mask, cv2.COLOR_RGB2BGR)\n",
    "    cv2.imwrite(path, mask)\n",
    "    return\n",
    "\n",
    "def preprocess_img(i, DATASET_IMAGES_PATH):\n",
    "    img_str_filled = fill_zeros_id(i)\n",
    "    image_str_name = img_str_filled + '.jpg'\n",
    "    img_path = DATASET_IMAGES_PATH + '/' + image_str_name\n",
    "    if not os.path.exists(img_path):\n",
    "        # print('no existe alv')\n",
    "        return None, img_str_filled, image_str_name\n",
    "    img = cv2.imread(img_path)\n",
    "    img = cv2.cvtColor(img, cv2.COLOR_BGR2RGB)     \n",
    "    return img, img_str_filled, image_str_name\n",
    "\n",
    "def decode_rle(rle_counts, size):\n",
    "    height, width = size\n",
    "    rle_encoding = [{'size': (height, width), 'counts': rle_counts}]\n",
    "    mask = cocomask.decode(rle_encoding)\n",
    "    mask_array = np.array(mask, dtype=np.uint8)\n",
    "    return mask_array\n",
    "\n",
    "def preprocess_split(instances_json, instances_stuff_json, DATASET_IMAGES_PATH, IMAGES_PATH, MASKS_PATH, CSV_PATH):\n",
    "\n",
    "    idx = 0\n",
    "    images, masks, category, category_id  = [], [], [], []\n",
    "\n",
    "    images_annotations = join_mask_annotations(instances_json)\n",
    "\n",
    "    if os.path.exists(IMAGES_PATH):\n",
    "        os.system('rm -rf ' + IMAGES_PATH)\n",
    "    if os.path.exists(MASKS_PATH):\n",
    "        os.system('rm -rf ' + MASKS_PATH)\n",
    "\n",
    "    if not os.path.exists(IMAGES_PATH):\n",
    "        os.makedirs(IMAGES_PATH)\n",
    "    if not os.path.exists(MASKS_PATH):\n",
    "        os.makedirs(MASKS_PATH)\n",
    "    if not os.path.exists(CSV_PATH):\n",
    "        os.makedirs(CSV_PATH)\n",
    "        \n",
    "    for i in tqdm(images_annotations):\n",
    "        img, img_str_filled, image_str_name = preprocess_img(i, DATASET_IMAGES_PATH)\n",
    "        if img is None:\n",
    "            continue\n",
    "\n",
    "        for j in images_annotations[i]:\n",
    "\n",
    "            cat_id = images_annotations[i][j][0]['category_id']\n",
    "            image_str_name_idx = img_str_filled + '_' + str(idx) + '.jpg'\n",
    "            mask = np.zeros_like(img)\n",
    "            \n",
    "            for pts in images_annotations[i][j][0]['segmentation']:\n",
    "                pts = np.array(pts, dtype=np.float32)\n",
    "                pts = pts.reshape(-1, 2)\n",
    "                cv2.fillPoly(mask, [pts.astype(np.int32)], (255, 255, 255))\n",
    "                    \n",
    "            save_img(mask, MASKS_PATH + '/' + image_str_name_idx)\n",
    "\n",
    "            images.append(image_str_name)\n",
    "            masks.append(image_str_name_idx)\n",
    "            category.append(categories_dict[str(cat_id)])\n",
    "            category_id.append(cat_id)\n",
    "\n",
    "            idx += 1\n",
    "        \n",
    "        save_img(img, IMAGES_PATH + '/' + image_str_name)\n",
    "    \n",
    "    for i in tqdm(instances_stuff_json):\n",
    "\n",
    "        id = i['image_id']\n",
    "        img, img_str_filled, image_str_name = preprocess_img(id, DATASET_IMAGES_PATH)\n",
    "        if img is None:\n",
    "            continue         \n",
    "\n",
    "        cat_id = i['category_id']\n",
    "        if str(cat_id) not in categories_dict:\n",
    "            continue   \n",
    "\n",
    "        image_str_name_idx = img_str_filled + '_' + str(idx) + '.jpg'\n",
    "        \n",
    "        size = i['segmentation']['size']\n",
    "        rle_counts = i['segmentation']['counts']\n",
    "\n",
    "        mask = decode_rle(rle_counts, size)\n",
    "        mask = (mask - np.min(mask)) * (255 / (np.max(mask) - np.min(mask)))\n",
    "        mask = mask.astype(np.uint8)\n",
    "                \n",
    "        save_img(mask, MASKS_PATH + '/' + image_str_name_idx)\n",
    "        save_img(img, IMAGES_PATH + '/' + image_str_name)\n",
    "\n",
    "        images.append(image_str_name)\n",
    "        masks.append(image_str_name_idx)\n",
    "        category.append(categories_dict[str(cat_id)])\n",
    "        category_id.append(cat_id)\n",
    "\n",
    "        idx += 1\n",
    "\n",
    "    df = pd.DataFrame({'image': images, 'mask': masks, 'label': category, 'category_id': category_id})\n",
    "    return df"
   ]
  },
  {
   "cell_type": "code",
   "execution_count": 9,
   "metadata": {},
   "outputs": [
    {
     "name": "stderr",
     "output_type": "stream",
     "text": [
      "100%|██████████| 4952/4952 [02:14<00:00, 36.94it/s]\n",
      " 11%|█         | 3596/32801 [00:45<06:11, 78.69it/s]C:\\Users\\david\\AppData\\Local\\Temp\\ipykernel_2760\\248572506.py:106: RuntimeWarning: divide by zero encountered in divide\n",
      "  mask = (mask - np.min(mask)) * (255 / (np.max(mask) - np.min(mask)))\n",
      "C:\\Users\\david\\AppData\\Local\\Temp\\ipykernel_2760\\248572506.py:106: RuntimeWarning: invalid value encountered in multiply\n",
      "  mask = (mask - np.min(mask)) * (255 / (np.max(mask) - np.min(mask)))\n",
      "C:\\Users\\david\\AppData\\Local\\Temp\\ipykernel_2760\\248572506.py:107: RuntimeWarning: invalid value encountered in cast\n",
      "  mask = mask.astype(np.uint8)\n",
      "100%|██████████| 32801/32801 [06:52<00:00, 79.54it/s]\n"
     ]
    }
   ],
   "source": [
    "df = preprocess_split(instances_val_json, instances_stuff_val_json['annotations'], DATASET_VAL_IMAGES_PATH, IMAGES_PATH + '/val/', MASKS_PATH + '/val/', CSV_PATH)\n",
    "df.to_csv(CSV_PATH + '/val.csv', index=False)"
   ]
  },
  {
   "cell_type": "code",
   "execution_count": 10,
   "metadata": {},
   "outputs": [
    {
     "name": "stderr",
     "output_type": "stream",
     "text": [
      "100%|██████████| 117266/117266 [54:19<00:00, 35.98it/s] \n",
      "  3%|▎         | 25925/747458 [06:04<2:43:46, 73.43it/s]C:\\Users\\david\\AppData\\Local\\Temp\\ipykernel_2760\\248572506.py:106: RuntimeWarning: divide by zero encountered in divide\n",
      "  mask = (mask - np.min(mask)) * (255 / (np.max(mask) - np.min(mask)))\n",
      "C:\\Users\\david\\AppData\\Local\\Temp\\ipykernel_2760\\248572506.py:106: RuntimeWarning: invalid value encountered in multiply\n",
      "  mask = (mask - np.min(mask)) * (255 / (np.max(mask) - np.min(mask)))\n",
      "C:\\Users\\david\\AppData\\Local\\Temp\\ipykernel_2760\\248572506.py:107: RuntimeWarning: invalid value encountered in cast\n",
      "  mask = mask.astype(np.uint8)\n",
      "100%|██████████| 747458/747458 [3:02:28<00:00, 68.27it/s]  \n"
     ]
    }
   ],
   "source": [
    "df = preprocess_split(instances_train_json, instances_stuff_train_json['annotations'], DATASET_TRAIN_IMAGES_PATH, IMAGES_PATH + '/train/', MASKS_PATH + '/train/', CSV_PATH)\n",
    "df.to_csv(CSV_PATH + '/train.csv', index=False)"
   ]
  },
  {
   "cell_type": "code",
   "execution_count": 11,
   "metadata": {},
   "outputs": [
    {
     "name": "stdout",
     "output_type": "stream",
     "text": [
      "dict_keys(['segmentation', 'area', 'iscrowd', 'image_id', 'bbox', 'category_id', 'id'])\n",
      "j19[6h1ZNXNf1h1ZNYNe1g1[NYNf1f1YNZNh1e1YN^Nd1b1ZNbNd1^1ZNdNf1\\1ZNdNf1\\1ZNdNlKLo4_1UOBj0>kNNRLUNi4l1UO0RLUNh4k1UO;l0DTO<R1^OnNb0R1^OnNc0T1ZOlNg0X1TOhNm0V1SOkNm0T1TOlNl0T1TOjNbNmKZ2X5UOkNm0V1ROkNm0T1TOlNk0U1UOlNj0T1UOmNk0S1UOmNk0S1UOmNk0S1UOmNl0R1TOoNk0l0gMmJ01^1W4j0j0kMoJ[1W4j0j0kMoJ[1X4i0a0UNVKQ1Z4j0`0D@<`0D@<`0D@<`0D@<`0D@<`0D@=?CA=?BB>=CC==CB>:FF:?A@`0a0_O_Oa0b0^O_Ob0`0^O_Oc0a0]O@b0`0]OCa0<@D`0;AE?:BG=8DI;7EI<6DK;1I06OJ35MK35MK35MK35MK35MK45KK55KK55KK55KK64JK75IK75IK75IK75IK75IK84HL85GJ:6FJ:6FJ;5EK;5EK;5EK;5EK;5EK:7EI;7EH;9EG::FF9;GE9;GE9;GE9<EE:<FD:<FC;=EC=;CE=;CE<<DD<<DD=;CE=<BD?WNWKM5k1U41P1JPO6P1JoN7Q1IoN7Q1IoN7R1HnN8Q1JnN5S1KmN5S1KmN5S1KmN5T1JlN6T1JlN6T1JlN6S1KlN6P1SNkJg1U45n0WNmJe1T44o0XNlJd1U44o0XNkJe1V43o03QOMm0TNmJo1V4Mj08VOHi0:VOFk09UOGk09UOGk09UOFl0:SOGn08ROHn08ROHn08ROHn08UOEk0;WOCk0;VODk0<TOWNgKR1Y5c0ROYNeKT1Y5c0oNZNjKS1W5c0nNZNUMJn3k1nNZNb2f1aMWN_2j1aMSNeKOk6m1`40000002N1O2N01N10000O010O10002N001O000010O0000O10001M2L`D\\Nb;c1301VOZDMh;L_DEP<J`me33\\SZL5L4K5L4L5G8J8I4fNaNcF_1[9cNeF]1[9cNbF`1]9cNaELl0f1^9_NfELk0e1_9cNbF\\1^9dNaF]1_9dN`F\\1`9dN`F\\1`9dN`F\\1`9eN_F[1U8UORGTO<<=Z1Q8ZNVGQ1:]O?X1o7BaGTO`0Z1j7`0TH@i7R3000000000O100000001O0O2I7eNZ1ZNf10001O000001O01O00O11O3N0O000MRDkNm;U1TDjNm;U14O101M_Eb0Z7]OgHb0[7]OeHc0[7]OeHc0[7^OdHb0\\7^OdHb0]7]OcHc0]7]OcHc0]7]OcHb0b7YO_Hg0c7UO_Hl0a7UO]Hj0k7oNUHQ1l7nNTHQ1m7kNWHU1o900000O1O01000O10_NZD^10aNg;a10000O10000000001O000`dU1\n",
      "uint8\n"
     ]
    },
    {
     "data": {
      "image/png": "[encoded data removed]",
      "text/plain": [
       "<Figure size 640x480 with 1 Axes>"
      ]
     },
     "metadata": {},
     "output_type": "display_data"
    }
   ],
   "source": [
    "annotation = instances_stuff_val_json['annotations'][0]\n",
    "print(annotation.keys())\n",
    "height, width = annotation['segmentation']['size']\n",
    "rle_counts = instances_stuff_val_json['annotations'][0]['segmentation']['counts']\n",
    "print(rle_counts)\n",
    "mask_array = decode_rle(rle_counts, (height, width))\n",
    "\n",
    "print(mask_array.dtype)\n",
    "\n",
    "import cv2\n",
    "import numpy as np\n",
    "\n",
    "image_array = (mask_array - np.min(mask_array)) * (255 / (np.max(mask_array) - np.min(mask_array)))\n",
    "image_array = image_array.astype(np.uint8)\n",
    "\n",
    "# Guardar el array como imagen utilizando OpenCV\n",
    "cv2.imwrite('imagen.png', image_array)\n",
    "\n",
    "plt.imshow(mask_array, cmap='gray')\n",
    "plt.show()"
   ]
  }
 ],
 "metadata": {
  "kernelspec": {
   "display_name": "pytorch",
   "language": "python",
   "name": "python3"
  },
  "language_info": {
   "codemirror_mode": {
    "name": "ipython",
    "version": 3
   },
   "file_extension": ".py",
   "mimetype": "text/x-python",
   "name": "python",
   "nbconvert_exporter": "python",
   "pygments_lexer": "ipython3",
   "version": "3.10.9"
  },
  "orig_nbformat": 4
 },
 "nbformat": 4,
 "nbformat_minor": 2
}
