{
 "cells": [
  {
   "cell_type": "code",
   "execution_count": 1,
   "metadata": {},
   "outputs": [],
   "source": [
    "import torch\n",
    "from torch.utils.data import Dataset\n",
    "import pandas as pd\n",
    "import numpy as np\n",
    "import torchvision\n",
    "import cv2"
   ]
  },
  {
   "cell_type": "code",
   "execution_count": null,
   "metadata": {},
   "outputs": [],
   "source": [
    "class ZeroShotDataset(Dataset):\n",
    "    def __init__(\n",
    "            self, \n",
    "            df, \n",
    "            image_folder,\n",
    "            mask_folder,\n",
    "            mask_size,\n",
    "            templates, \n",
    "            unseen_clases, \n",
    "            image_processor, \n",
    "            tokenizer, \n",
    "            filter_unseen = True,\n",
    "            filter_seen = False\n",
    "        ):\n",
    "        self.df = df\n",
    "        self.image_folder = image_folder\n",
    "        self.mask_folder = mask_folder\n",
    "        self.templates = templates\n",
    "        self.unseen_clases = unseen_clases\n",
    "        \n",
    "        self.image_processor = image_processor\n",
    "        self.tokenizer = tokenizer\n",
    "        self.filter_unseen = filter_unseen\n",
    "        self.filter_seen = filter_seen\n",
    "\n",
    "        self.mask_transform = torchvision.transforms.Compose([\n",
    "            torchvision.transforms.Resize((mask_size, mask_size)),\n",
    "            torchvision.transforms.ToTensor()\n",
    "        ])\n",
    "\n",
    "        if self.filter_unseen:\n",
    "            self.df = self.df[self.df[\"label\"].isin(self.unseen_clases)]\n",
    "\n",
    "        elif self.filter_seen:\n",
    "            self.df = self.df[~self.df[\"label\"].isin(self.unseen_clases)]\n",
    "        \n",
    "    def __len__(self):\n",
    "        return len(self.df)\n",
    "    \n",
    "    def __getitem__(self, idx):\n",
    "        row = self.df.iloc[idx]\n",
    "\n",
    "        image_path = self.image_folder + row[\"image\"] + \".jpg\"\n",
    "        mask_path = self.mask_folder + row[\"mask\"] + \".png\"\n",
    "\n",
    "        image = cv2.imread(image_path)\n",
    "        mask = cv2.imread(mask_path, cv2.IMREAD_GRAYSCALE)\n",
    "\n",
    "        image = self.image_processor(images = image, return_tensors=\"pt\")['pixel_values']\n",
    "        mask = self.mask_transform(mask)\n",
    "\n",
    "        label = row[\"label\"]\n",
    "        template = self.templates[np.random.randint(len(self.templates))]\n",
    "        text = template.format(label)\n",
    "        text = self.tokenizer.encode(text)\n",
    "\n",
    "        return image, text, label\n"
   ]
  }
 ],
 "metadata": {
  "kernelspec": {
   "display_name": "AI",
   "language": "python",
   "name": "python3"
  },
  "language_info": {
   "codemirror_mode": {
    "name": "ipython",
    "version": 3
   },
   "file_extension": ".py",
   "mimetype": "text/x-python",
   "name": "python",
   "nbconvert_exporter": "python",
   "pygments_lexer": "ipython3",
   "version": "3.10.9"
  },
  "orig_nbformat": 4
 },
 "nbformat": 4,
 "nbformat_minor": 2
}
