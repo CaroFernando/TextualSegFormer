{
 "cells": [
  {
   "cell_type": "code",
   "execution_count": 1,
   "metadata": {},
   "outputs": [],
   "source": [
    "import numpy as np\n",
    "import pandas as pd\n",
    "import matplotlib.pyplot as plt\n",
    "import os\n",
    "import json\n",
    "import cv2\n",
    "from tqdm import tqdm"
   ]
  },
  {
   "cell_type": "code",
   "execution_count": 2,
   "metadata": {},
   "outputs": [],
   "source": [
    "IMAGES_PATH = 'C:/Users/luisf/Documents/Prog/Datasets/PhraseCutV0/images'\n",
    "MASKS_PATH = 'C:/Users/luisf/Documents/Prog/Datasets/PhraseCutV0/masks'\n",
    "ANNOTATIONS_PATH = 'C:/Users/luisf/Documents/Prog/Datasets/PhraseCutV0'"
   ]
  },
  {
   "cell_type": "code",
   "execution_count": 3,
   "metadata": {},
   "outputs": [],
   "source": [
    "def preprocess_split(split_json):\n",
    "    ind = 0\n",
    "\n",
    "    images = []\n",
    "    masks = []\n",
    "    phrases = []\n",
    "\n",
    "    for i in tqdm(split_json):\n",
    "        img_path = 'PhraseCutDatasetD/data/VGPhraseCut_v0/images/' + str(i['image_id']) + '.jpg'\n",
    "        img = cv2.imread(img_path)\n",
    "        img = cv2.cvtColor(img, cv2.COLOR_BGR2RGB)\n",
    "\n",
    "        mask = np.zeros_like(img)\n",
    "            \n",
    "        for j in i['Polygons'][0]:\n",
    "            cv2.fillPoly(mask, np.array([j], dtype=np.int32), (255, 255, 255))\n",
    "            \n",
    "        img = cv2.resize(img, (256, 256))\n",
    "        mask = cv2.resize(mask, (256, 256))\n",
    "        \n",
    "        img = cv2.cvtColor(img, cv2.COLOR_RGB2BGR)\n",
    "        mask = cv2.cvtColor(mask, cv2.COLOR_RGB2BGR)\n",
    "\n",
    "        cv2.imwrite(IMAGES_PATH + '/' + str(i['image_id']) + '.jpg', img)\n",
    "        cv2.imwrite(MASKS_PATH + '/' + str(i['image_id'])+ '_' + str(ind) + '.jpg', mask)\n",
    "\n",
    "        images.append(i['image_id'])\n",
    "        phrases.append(i['phrase'])\n",
    "        masks.append(str(i['image_id'])+ '_' + str(ind))\n",
    "\n",
    "        ind += 1\n",
    "\n",
    "    df = pd.DataFrame({'image': images, 'mask': masks, 'phrase': phrases})\n",
    "    return df"
   ]
  },
  {
   "cell_type": "code",
   "execution_count": 4,
   "metadata": {},
   "outputs": [],
   "source": [
    "train_path = 'PhraseCutDatasetD/data/VGPhraseCut_v0/refer_train.json'\n",
    "val_path = 'PhraseCutDatasetD/data/VGPhraseCut_v0/refer_val.json'\n",
    "test_path = 'PhraseCutDatasetD/data/VGPhraseCut_v0/refer_test.json'"
   ]
  },
  {
   "cell_type": "code",
   "execution_count": 5,
   "metadata": {},
   "outputs": [
    {
     "name": "stderr",
     "output_type": "stream",
     "text": [
      "100%|██████████| 310816/310816 [30:44<00:00, 168.54it/s]\n",
      "100%|██████████| 19495/19495 [02:02<00:00, 158.51it/s]\n",
      "100%|██████████| 14354/14354 [01:32<00:00, 154.94it/s]\n"
     ]
    }
   ],
   "source": [
    "with open(train_path) as f:\n",
    "    train_json = json.load(f)\n",
    "\n",
    "train_df = preprocess_split(train_json)\n",
    "train_df.to_csv(ANNOTATIONS_PATH + '/train.csv', index=False)\n",
    "\n",
    "del train_json\n",
    "del train_df\n",
    "\n",
    "with open(val_path) as f:\n",
    "    val_json = json.load(f)\n",
    "\n",
    "val_df = preprocess_split(val_json)\n",
    "val_df.to_csv(ANNOTATIONS_PATH + '/val.csv', index=False)\n",
    "\n",
    "del val_json\n",
    "del val_df\n",
    "\n",
    "with open(test_path) as f:\n",
    "    test_json = json.load(f)\n",
    "\n",
    "test_df = preprocess_split(test_json)\n",
    "test_df.to_csv(ANNOTATIONS_PATH + '/test.csv', index=False)\n",
    "\n",
    "del test_json\n",
    "del test_df"
   ]
  },
  {
   "cell_type": "code",
   "execution_count": null,
   "metadata": {},
   "outputs": [],
   "source": []
  }
 ],
 "metadata": {
  "kernelspec": {
   "display_name": "pytorch",
   "language": "python",
   "name": "python3"
  },
  "language_info": {
   "codemirror_mode": {
    "name": "ipython",
    "version": 3
   },
   "file_extension": ".py",
   "mimetype": "text/x-python",
   "name": "python",
   "nbconvert_exporter": "python",
   "pygments_lexer": "ipython3",
   "version": "3.9.16"
  },
  "orig_nbformat": 4
 },
 "nbformat": 4,
 "nbformat_minor": 2
}
