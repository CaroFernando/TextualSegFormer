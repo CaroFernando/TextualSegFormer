{
 "cells": [
  {
   "cell_type": "code",
   "execution_count": 1,
   "metadata": {},
   "outputs": [],
   "source": [
    "import warnings\n",
    "warnings.filterwarnings('ignore')\n",
    "\n",
    "import torch\n",
    "from torch.utils.data import Dataset\n",
    "import pandas as pd\n",
    "import numpy as np\n",
    "import torchvision\n",
    "import cv2\n",
    "from ZeroShotDataset import ZeroShotDataset\n",
    "from params import *\n",
    "\n",
    "from transformers import CLIPProcessor, CLIPModel\n",
    "\n",
    "from ConditionedSegFormerPE import ConditionedSegFormer\n",
    "from LossFunc import *\n",
    "import pytorch_lightning as pl\n",
    "import torchmetrics as tm"
   ]
  },
  {
   "cell_type": "code",
   "execution_count": 2,
   "metadata": {},
   "outputs": [],
   "source": [
    "class CLIPConditionedSegFormer(pl.LightningModule):\n",
    "    def __init__(self):\n",
    "        super().__init__()\n",
    "        self.clip = CLIPModel.from_pretrained('openai/clip-vit-base-patch16')\n",
    "        self.processor = CLIPProcessor.from_pretrained('openai/clip-vit-base-patch16')\n",
    "\n",
    "        self.segformer = ConditionedSegFormer(\n",
    "            ModelParams.INCHANNELS,\n",
    "            ModelParams.WIDTHS,\n",
    "            ModelParams.DEPTHS,\n",
    "            512,\n",
    "            768,\n",
    "            ModelParams.PATCH_SIZES,\n",
    "            ModelParams.OVERLAP_SIZES,\n",
    "            ModelParams.NUM_HEADS,\n",
    "            ModelParams.EXPANSION_FACTORS,\n",
    "            ModelParams.DECODER_CHANNELS,\n",
    "            ModelParams.SCALE_FACTORS\n",
    "        )\n",
    "\n",
    "        self.plot_every = TrainParams.PLOT_EVERY\n",
    "\n",
    "        self.neloss = NELoss(LossParams.ALPHA, LossParams.BETA)\n",
    "\n",
    "        self.acc = tm.Accuracy(task=\"binary\", threshold=LossParams.THRESHOLD)\n",
    "        self.dice = DiceLoss()\n",
    "        self.iou = IoULoss(LossParams.THRESHOLD)\n",
    "        self.f1score = tm.F1Score(task=\"binary\", threshold=LossParams.THRESHOLD)\n",
    "\n",
    "        # freeze CLIP\n",
    "        for param in self.clip.parameters():\n",
    "            param.requires_grad = False\n",
    "\n",
    "    def forward(self, x, condition):\n",
    "        condition = self.clip.text_model(condition).last_hidden_state\n",
    "        pe = self.clip.vision_model(x).last_hidden_state\n",
    "\n",
    "        return self.segformer(x, pe, condition)\n",
    "    \n",
    "    def training_step(self, batch, batch_idx):\n",
    "        x, condition, y = batch\n",
    "        y_hat = self(x, condition)\n",
    "        loss = self.neloss(y_hat, y)\n",
    "        self.log(\"train_loss\", loss, prog_bar=True)\n",
    "\n",
    "        return loss\n",
    "    \n",
    "    def validation_step(self, batch, batch_idx):\n",
    "        x, condition, y = batch\n",
    "        y_hat = self(x, condition)\n",
    "        loss = self.neloss(y_hat, y)\n",
    "        self.log(\"val_loss\", loss, prog_bar=True)\n",
    "        return loss\n",
    "    \n",
    "    def test_step(self, batch, batch_idx):\n",
    "        x, condition, y = batch\n",
    "        y_hat = self(x, condition)\n",
    "\n",
    "        t_y_hat = torch.where(y_hat > 0.5, 1, 0).long()\n",
    "        t_y = torch.where(y > 0.5, 1, 0).long()\n",
    "\n",
    "        acc = self.acc(t_y_hat, t_y)\n",
    "        dice = self.dice(y_hat, y)\n",
    "        iou = self.iou(y_hat, y)\n",
    "        f1 = self.f1score(t_y_hat, t_y)\n",
    "\n",
    "        self.log(\"test_acc\", acc, prog_bar=True)\n",
    "        self.log(\"test_dice\", dice, prog_bar=True)\n",
    "        self.log(\"test_iou\", iou, prog_bar=True)\n",
    "        self.log(\"test_f1\", f1, prog_bar=True)\n",
    "    \n",
    "    def configure_optimizers(self):\n",
    "        optimizer = torch.optim.AdamW(self.parameters(), lr=1e-4, betas=(0.9, 0.98), eps=1e-7)\n",
    "        scheduler = torch.optim.lr_scheduler.StepLR(optimizer, step_size=2000, gamma=0.99)\n",
    "        return {\n",
    "            \"optimizer\": optimizer, \n",
    "            \"lr_scheduler\": {\n",
    "                \"scheduler\": scheduler,\n",
    "                \"interval\": \"step\",\n",
    "                \"frequency\": 1\n",
    "            }         \n",
    "        }"
   ]
  },
  {
   "cell_type": "code",
   "execution_count": 3,
   "metadata": {},
   "outputs": [],
   "source": [
    "train_df = pd.read_csv(\"train.csv\")"
   ]
  },
  {
   "cell_type": "code",
   "execution_count": 4,
   "metadata": {},
   "outputs": [],
   "source": [
    "clip_processor = CLIPProcessor.from_pretrained('openai/clip-vit-base-patch16')"
   ]
  },
  {
   "cell_type": "code",
   "execution_count": 5,
   "metadata": {},
   "outputs": [],
   "source": [
    "train_dataset = ZeroShotDataset(\n",
    "    df = train_df, \n",
    "    image_folder = 'C:/Datasets/COCO/P/ProcessedDataset/images/train/',\n",
    "    mask_folder = \"C:/Datasets/COCO/P/ProcessedDataset/masks/train/\",\n",
    "    mask_size = 56,\n",
    "    templates = TrainParams.TEMPLATES, \n",
    "    unseen_clases = [], \n",
    "    image_processor = clip_processor, \n",
    "    tokenizer = clip_processor.tokenizer, \n",
    "    filter_unseen = False,\n",
    "    filter_seen = True\n",
    "\n",
    ")"
   ]
  },
  {
   "cell_type": "code",
   "execution_count": 6,
   "metadata": {},
   "outputs": [],
   "source": [
    "loader = torch.utils.data.DataLoader(train_dataset, batch_size=TrainParams.BATCH_SIZE, shuffle=True, collate_fn=train_dataset.collate_fn)"
   ]
  },
  {
   "cell_type": "code",
   "execution_count": 7,
   "metadata": {},
   "outputs": [],
   "source": [
    "batch = next(iter(loader))"
   ]
  },
  {
   "cell_type": "code",
   "execution_count": 8,
   "metadata": {},
   "outputs": [],
   "source": [
    "image, text, mask = batch"
   ]
  },
  {
   "cell_type": "code",
   "execution_count": 9,
   "metadata": {},
   "outputs": [],
   "source": [
    "test_model = CLIPConditionedSegFormer()"
   ]
  },
  {
   "cell_type": "code",
   "execution_count": 10,
   "metadata": {},
   "outputs": [],
   "source": [
    "out = test_model(image, text)"
   ]
  },
  {
   "cell_type": "code",
   "execution_count": 11,
   "metadata": {},
   "outputs": [
    {
     "data": {
      "text/plain": [
       "torch.Size([16, 1, 56, 56])"
      ]
     },
     "execution_count": 11,
     "metadata": {},
     "output_type": "execute_result"
    }
   ],
   "source": [
    "out.shape"
   ]
  },
  {
   "cell_type": "code",
   "execution_count": 12,
   "metadata": {},
   "outputs": [
    {
     "data": {
      "text/plain": [
       "torch.Size([16, 1, 56, 56])"
      ]
     },
     "execution_count": 12,
     "metadata": {},
     "output_type": "execute_result"
    }
   ],
   "source": [
    "mask.shape"
   ]
  },
  {
   "cell_type": "code",
   "execution_count": 13,
   "metadata": {},
   "outputs": [
    {
     "data": {
      "text/plain": [
       "tensor(0.5437, grad_fn=<AddBackward0>)"
      ]
     },
     "execution_count": 13,
     "metadata": {},
     "output_type": "execute_result"
    }
   ],
   "source": [
    "test_model.training_step(batch, 0)"
   ]
  },
  {
   "cell_type": "code",
   "execution_count": null,
   "metadata": {},
   "outputs": [],
   "source": []
  }
 ],
 "metadata": {
  "kernelspec": {
   "display_name": "AI",
   "language": "python",
   "name": "python3"
  },
  "language_info": {
   "codemirror_mode": {
    "name": "ipython",
    "version": 3
   },
   "file_extension": ".py",
   "mimetype": "text/x-python",
   "name": "python",
   "nbconvert_exporter": "python",
   "pygments_lexer": "ipython3",
   "version": "3.9.16"
  },
  "orig_nbformat": 4
 },
 "nbformat": 4,
 "nbformat_minor": 2
}
