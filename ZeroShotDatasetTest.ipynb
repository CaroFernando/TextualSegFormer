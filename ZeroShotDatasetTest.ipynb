{
 "cells": [
  {
   "cell_type": "code",
   "execution_count": 1,
   "metadata": {},
   "outputs": [],
   "source": [
    "import warnings\n",
    "warnings.filterwarnings('ignore')\n",
    "\n",
    "import torch\n",
    "from torch.utils.data import Dataset\n",
    "import pandas as pd\n",
    "import numpy as np\n",
    "import torchvision\n",
    "import cv2\n",
    "from ZeroShotDataset import ZeroShotDataset\n",
    "from params import *\n",
    "\n",
    "from transformers import CLIPProcessor, CLIPModel\n",
    "\n",
    "from ConditionedSegFormerPE import ConditionedSegFormer\n",
    "from LossFunc import *\n",
    "import pytorch_lightning as pl\n",
    "import torchmetrics as tm"
   ]
  },
  {
   "cell_type": "code",
   "execution_count": 2,
   "metadata": {},
   "outputs": [],
   "source": [
    "class CLIPConditionedSegFormer(pl.LightningModule):\n",
    "    def __init__(self):\n",
    "        super().__init__()\n",
    "        self.clip = CLIPModel.from_pretrained('openai/clip-vit-base-patch16')\n",
    "        self.processor = CLIPProcessor.from_pretrained('openai/clip-vit-base-patch16')\n",
    "\n",
    "        self.segformer = ConditionedSegFormer(\n",
    "            ModelParams.INCHANNELS,\n",
    "            ModelParams.WIDTHS,\n",
    "            ModelParams.DEPTHS,\n",
    "            512,\n",
    "            768,\n",
    "            ModelParams.PATCH_SIZES,\n",
    "            ModelParams.OVERLAP_SIZES,\n",
    "            ModelParams.NUM_HEADS,\n",
    "            ModelParams.EXPANSION_FACTORS,\n",
    "            ModelParams.DECODER_CHANNELS,\n",
    "            ModelParams.SCALE_FACTORS\n",
    "        )\n",
    "\n",
    "        self.plot_every = TrainParams.PLOT_EVERY\n",
    "\n",
    "        self.neloss = NELoss(LossParams.ALPHA, LossParams.BETA)\n",
    "        # self.neloss = FocalLoss()\n",
    "\n",
    "        self.acc = tm.Accuracy(task=\"binary\", threshold=LossParams.THRESHOLD)\n",
    "        self.dice = DiceLoss()\n",
    "        self.iou = IoULoss(LossParams.THRESHOLD)\n",
    "        self.f1score = tm.F1Score(task=\"binary\", threshold=LossParams.THRESHOLD)\n",
    "\n",
    "        # freeze CLIP\n",
    "        for param in self.clip.parameters():\n",
    "            param.requires_grad = False\n",
    "\n",
    "    def forward(self, x, condition):\n",
    "        condition = self.clip.text_model(condition).last_hidden_state\n",
    "        pe = self.clip.vision_model(x).last_hidden_state\n",
    "\n",
    "        out = self.segformer(x, pe, condition)\n",
    "        return out\n",
    "    \n",
    "    def training_step(self, batch, batch_idx):\n",
    "        x, condition, y = batch\n",
    "        y_hat = self(x, condition)\n",
    "        loss = self.neloss(y_hat, y)\n",
    "        self.log(\"train_loss\", loss, prog_bar=True)\n",
    "        \n",
    "        if self.global_step % self.plot_every == 0: \n",
    "            y = y.repeat(1, 3, 1, 1)\n",
    "            y_hat = torch.sigmoid(y_hat)\n",
    "            y_hat = y_hat.repeat(1, 3, 1, 1)\n",
    "\n",
    "            # x_grid = torchvision.utils.make_grid(train_dataset.image_inverse_transform(x))\n",
    "            # self.logger.experiment.add_image('train_sample_image', x_grid, self.global_step)\n",
    "\n",
    "            grid = torchvision.utils.make_grid(torch.cat([y, y_hat], dim=0))\n",
    "            self.logger.experiment.add_image('train_sample_mask', grid, self.global_step)\n",
    "\n",
    "        return loss\n",
    "    \n",
    "    def validation_step(self, batch, batch_idx):\n",
    "        x, condition, y = batch\n",
    "        y_hat = self(x, condition)\n",
    "        loss = self.neloss(y_hat, y)\n",
    "        self.log(\"val_loss\", loss, prog_bar=True)\n",
    "        return loss\n",
    "    \n",
    "    def test_step(self, batch, batch_idx):\n",
    "        x, condition, y = batch\n",
    "        y_hat = self(x, condition)\n",
    "\n",
    "        t_y_hat = torch.where(y_hat > 0.5, 1, 0).long()\n",
    "        t_y = torch.where(y > 0.5, 1, 0).long()\n",
    "\n",
    "        acc = self.acc(t_y_hat, t_y)\n",
    "        dice = self.dice(y_hat, y)\n",
    "        iou = self.iou(y_hat, y)\n",
    "        f1 = self.f1score(t_y_hat, t_y)\n",
    "\n",
    "        self.log(\"test_acc\", acc, prog_bar=True)\n",
    "        self.log(\"test_dice\", dice, prog_bar=True)\n",
    "        self.log(\"test_iou\", iou, prog_bar=True)\n",
    "        self.log(\"test_f1\", f1, prog_bar=True)\n",
    "    \n",
    "    def configure_optimizers(self):\n",
    "        optimizer = torch.optim.AdamW(self.parameters(), lr=1e-4, betas=(0.9, 0.98), eps=1e-7)\n",
    "        scheduler = torch.optim.lr_scheduler.StepLR(optimizer, step_size=2000, gamma=0.99)\n",
    "        return {\n",
    "            \"optimizer\": optimizer, \n",
    "            \"lr_scheduler\": {\n",
    "                \"scheduler\": scheduler,\n",
    "                \"interval\": \"step\",\n",
    "                \"frequency\": 1\n",
    "            }         \n",
    "        }"
   ]
  },
  {
   "cell_type": "code",
   "execution_count": 3,
   "metadata": {},
   "outputs": [],
   "source": [
    "train_df = pd.read_csv(\"train.csv\")\n",
    "val_df = pd.read_csv(\"val.csv\")\n",
    "clip_processor = CLIPProcessor.from_pretrained('openai/clip-vit-base-patch16')"
   ]
  },
  {
   "cell_type": "code",
   "execution_count": 4,
   "metadata": {},
   "outputs": [],
   "source": [
    "train_dataset = ZeroShotDataset(\n",
    "    df = train_df, \n",
    "    # image_folder = 'C:/Datasets/COCO/P/ProcessedDataset/images/train/',\n",
    "    image_folder = 'ProcessedDataset/images/train/',\n",
    "    # mask_folder = \"C:/Datasets/COCO/P/ProcessedDataset/masks/train/\",\n",
    "    mask_folder = 'ProcessedDataset/masks/train/',\n",
    "    mask_size = 56,\n",
    "    templates = TrainParams.TEMPLATES, \n",
    "    unseen_clases = [], \n",
    "    image_processor = clip_processor, \n",
    "    tokenizer = clip_processor.tokenizer, \n",
    "    filter_unseen = False,\n",
    "    filter_seen = True\n",
    ")\n"
   ]
  },
  {
   "cell_type": "code",
   "execution_count": 5,
   "metadata": {},
   "outputs": [],
   "source": [
    "train_loader = torch.utils.data.DataLoader(train_dataset, batch_size=TrainParams.BATCH_SIZE, shuffle=True, collate_fn=train_dataset.collate_fn, num_workers=TrainParams.NUM_WORKERS)"
   ]
  },
  {
   "cell_type": "code",
   "execution_count": 6,
   "metadata": {},
   "outputs": [],
   "source": [
    "test_model = CLIPConditionedSegFormer()"
   ]
  },
  {
   "cell_type": "code",
   "execution_count": 7,
   "metadata": {},
   "outputs": [],
   "source": [
    "# torch.set_float32_matmul_precision('medium')"
   ]
  },
  {
   "cell_type": "code",
   "execution_count": 8,
   "metadata": {},
   "outputs": [
    {
     "name": "stderr",
     "output_type": "stream",
     "text": [
      "GPU available: True (cuda), used: True\n",
      "TPU available: False, using: 0 TPU cores\n",
      "IPU available: False, using: 0 IPUs\n",
      "HPU available: False, using: 0 HPUs\n"
     ]
    }
   ],
   "source": [
    "checkpoint_callback = pl.callbacks.ModelCheckpoint(\n",
    "    dirpath='./checkpoints',\n",
    "    filename='{epoch}-{val_loss:.2f}-{val_r2:.2f}',\n",
    "    save_top_k=1,\n",
    "    monitor='val_loss',\n",
    "    every_n_epochs=1,\n",
    "    mode='min'\n",
    ")\n",
    "\n",
    "trainer = pl.Trainer(\n",
    "    accelerator='gpu',\n",
    "    max_epochs=30,\n",
    "    callbacks=[\n",
    "        checkpoint_callback,\n",
    "        pl.callbacks.LearningRateMonitor(logging_interval='step')\n",
    "    ]\n",
    ")"
   ]
  },
  {
   "cell_type": "code",
   "execution_count": 9,
   "metadata": {},
   "outputs": [
    {
     "name": "stderr",
     "output_type": "stream",
     "text": [
      "LOCAL_RANK: 0 - CUDA_VISIBLE_DEVICES: [0]\n",
      "\n",
      "  | Name      | Type                 | Params\n",
      "---------------------------------------------------\n",
      "0 | clip      | CLIPModel            | 149 M \n",
      "1 | segformer | ConditionedSegFormer | 18.5 M\n",
      "2 | neloss    | NELoss               | 0     \n",
      "3 | acc       | BinaryAccuracy       | 0     \n",
      "4 | dice      | DiceLoss             | 0     \n",
      "5 | iou       | IoULoss              | 0     \n",
      "6 | f1score   | BinaryF1Score        | 0     \n",
      "---------------------------------------------------\n",
      "18.5 M    Trainable params\n",
      "149 M     Non-trainable params\n",
      "168 M     Total params\n",
      "672.555   Total estimated model params size (MB)\n"
     ]
    },
    {
     "name": "stdout",
     "output_type": "stream",
     "text": [
      "Epoch 0:  56%|█████▌    | 13862/24913 [1:41:29<1:20:54,  2.28it/s, v_num=13, train_loss=0.0902]"
     ]
    }
   ],
   "source": [
    "trainer.fit(test_model, train_loader)"
   ]
  }
 ],
 "metadata": {
  "kernelspec": {
   "display_name": "AI",
   "language": "python",
   "name": "python3"
  },
  "language_info": {
   "codemirror_mode": {
    "name": "ipython",
    "version": 3
   },
   "file_extension": ".py",
   "mimetype": "text/x-python",
   "name": "python",
   "nbconvert_exporter": "python",
   "pygments_lexer": "ipython3",
   "version": "3.9.16"
  },
  "orig_nbformat": 4
 },
 "nbformat": 4,
 "nbformat_minor": 2
}
