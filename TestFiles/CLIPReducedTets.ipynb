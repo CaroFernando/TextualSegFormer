{
 "cells": [
  {
   "cell_type": "code",
   "execution_count": null,
   "metadata": {},
   "outputs": [],
   "source": [
    "import torch \n",
    "import torch.nn as nn\n",
    "import torch.nn.functional as F\n",
    "from einops import rearrange\n",
    "from ZeroShotDataset import ZeroShotDataset\n",
    "import pandas as pd\n",
    "import pytorch_lightning as pl\n",
    "from params import *\n",
    "from transformers import CLIPProcessor, CLIPModel"
   ]
  },
  {
   "cell_type": "code",
   "execution_count": null,
   "metadata": {},
   "outputs": [],
   "source": [
    "class CLIPImageTextMerge(nn.Module):\n",
    "    def __init__(self, d_model, n_heads):\n",
    "        super().__init__()\n",
    "        self.d_model = d_model\n",
    "        self.n_heads = n_heads\n",
    "        self.mha = nn.MultiheadAttention(d_model, n_heads)\n",
    "        self.outfc = nn.Linear(d_model, d_model)\n",
    "        self.norm = nn.LayerNorm(d_model)\n",
    "\n",
    "    def forward(self, image, text):\n",
    "        # image shape: (batch_size, 50, d_model)\n",
    "        # text shape: (batch_size, 77, d_model)\n",
    "\n",
    "        # merge image and text, the output shape should be the same as the image\n",
    "        # shape: (batch_size, 50, d_model)\n",
    "        image = self.mha(image, text, text)[0]\n",
    "        image = self.norm(image + image)\n",
    "        image = self.outfc(image)\n",
    "        return image"
   ]
  },
  {
   "cell_type": "code",
   "execution_count": null,
   "metadata": {},
   "outputs": [],
   "source": [
    "class ImageAutoEncoder(pl.LightningModule):\n",
    "    def __init__(self):\n",
    "        super().__init__()\n",
    "        \n",
    "        encoder_dims = [3, 256, 512]\n",
    "        decoder_dims = [512, 256, 3]\n",
    "\n",
    "        # image shape (batch_size, 3, 256, 256)\n",
    "        self.encoder = nn.Sequential(\n",
    "            nn.Conv2d(encoder_dims[0], encoder_dims[1], 3, stride=2, padding=1),\n",
    "            nn.GELU(),\n",
    "            nn.BatchNorm2d(encoder_dims[1]),\n",
    "            nn.Conv2d(encoder_dims[1], encoder_dims[2], 3, stride=2, padding=1),\n",
    "            nn.Sigmoid(),\n",
    "            nn.BatchNorm2d(encoder_dims[2])\n",
    "        )\n",
    "\n",
    "        self.decoder = nn.Sequential(\n",
    "            nn.ConvTranspose2d(decoder_dims[0], decoder_dims[1], 3, stride=2, padding=1, output_padding=1),\n",
    "            nn.GELU(),\n",
    "            nn.BatchNorm2d(decoder_dims[1]),\n",
    "            nn.ConvTranspose2d(decoder_dims[1], decoder_dims[2], 3, stride=2, padding=1, output_padding=1),\n",
    "        )\n",
    "\n",
    "    def forward(self, x):\n",
    "        ex = self.encoder(x)\n",
    "        x = self.decoder(ex)\n",
    "        return x, ex\n",
    "    \n",
    "    def training_step(self, batch, batch_idx):\n",
    "        x, _, _ = batch\n",
    "        x_hat, _ = self(x)\n",
    "        loss = F.mse_loss(x_hat, x)\n",
    "        self.log('train_loss', loss, prog_bar=True)\n",
    "        return loss\n",
    "    \n",
    "    def validation_step(self, batch, batch_idx):\n",
    "        x, _, _ = batch\n",
    "        x_hat, _ = self(x)\n",
    "        loss = F.mse_loss(x_hat, x)\n",
    "        self.log('val_loss', loss, prog_bar=True)\n",
    "        return loss\n",
    "    \n",
    "    def configure_optimizers(self):\n",
    "        optimizer = torch.optim.Adam(self.parameters(), lr=1e-3)\n",
    "        return optimizer"
   ]
  },
  {
   "cell_type": "code",
   "execution_count": null,
   "metadata": {},
   "outputs": [],
   "source": [
    "x_test = torch.randn(1, 3, 224, 224)\n",
    "model = ImageAutoEncoder()\n",
    "x_hat, ex = model(x_test)"
   ]
  },
  {
   "cell_type": "code",
   "execution_count": null,
   "metadata": {},
   "outputs": [],
   "source": [
    "x_hat.shape, ex.shape"
   ]
  },
  {
   "cell_type": "code",
   "execution_count": null,
   "metadata": {},
   "outputs": [],
   "source": [
    "# torch random split \n",
    "from torch.utils.data import random_split\n",
    "\n",
    "train_df = pd.read_csv(\"ProcessedDatasetStuff/csv/train.csv\")\n",
    "clip_processor = CLIPProcessor.from_pretrained(\"openai/clip-vit-base-patch32\")"
   ]
  },
  {
   "cell_type": "code",
   "execution_count": null,
   "metadata": {},
   "outputs": [],
   "source": [
    "complete_dataset = ZeroShotDataset(\n",
    "    df = train_df, \n",
    "    # image_folder = 'C:/Datasets/COCO/P/ProcessedDataset/images/train/',\n",
    "    image_folder = 'ProcessedDatasetStuff/images/train/',\n",
    "    # mask_folder = \"C:/Datasets/COCO/P/ProcessedDataset/masks/train/\",\n",
    "    mask_folder = 'ProcessedDatasetStuff/masks/train/',\n",
    "    mask_size = 56,\n",
    "    templates = TrainParams.TEMPLATES, \n",
    "    unseen_classes = TrainParams.UNSEEN_CLASSES, \n",
    "    image_processor = clip_processor, \n",
    "    tokenizer = clip_processor.tokenizer, \n",
    "    filter_unseen = False,\n",
    "    filter_seen = True\n",
    ")\n",
    "\n",
    "train_size = int(TrainParams.TRAIN_VAL_SPLIT * len(complete_dataset))\n",
    "val_size = len(complete_dataset) - train_size\n",
    "train_dataset, val_dataset = random_split(complete_dataset, [train_size, val_size])"
   ]
  },
  {
   "cell_type": "code",
   "execution_count": null,
   "metadata": {},
   "outputs": [],
   "source": [
    "trainloader = torch.utils.data.DataLoader(complete_dataset, batch_size=16, shuffle=True, collate_fn=complete_dataset.collate_fn)\n",
    "valloader = torch.utils.data.DataLoader(val_dataset, batch_size=16, shuffle=True, collate_fn=complete_dataset.collate_fn)"
   ]
  },
  {
   "cell_type": "code",
   "execution_count": null,
   "metadata": {},
   "outputs": [],
   "source": [
    "model = ImageAutoEncoder()\n",
    "trainer = pl.Trainer(max_epochs=10, accelerator='gpu')\n",
    "trainer.fit(model, trainloader, valloader)"
   ]
  },
  {
   "cell_type": "code",
   "execution_count": null,
   "metadata": {},
   "outputs": [],
   "source": [
    "# save model\n",
    "torch.save(model.state_dict(), \"CLIPImageAutoEncoder.pt\")"
   ]
  },
  {
   "cell_type": "code",
   "execution_count": null,
   "metadata": {},
   "outputs": [],
   "source": []
  }
 ],
 "metadata": {
  "kernelspec": {
   "display_name": "pytorch",
   "language": "python",
   "name": "python3"
  },
  "language_info": {
   "codemirror_mode": {
    "name": "ipython",
    "version": 3
   },
   "file_extension": ".py",
   "mimetype": "text/x-python",
   "name": "python",
   "nbconvert_exporter": "python",
   "pygments_lexer": "ipython3",
   "version": "3.9.16"
  },
  "orig_nbformat": 4
 },
 "nbformat": 4,
 "nbformat_minor": 2
}
