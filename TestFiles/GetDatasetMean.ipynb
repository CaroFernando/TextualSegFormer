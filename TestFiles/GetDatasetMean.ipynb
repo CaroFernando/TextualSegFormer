{
 "cells": [
  {
   "cell_type": "code",
   "execution_count": 1,
   "metadata": {},
   "outputs": [],
   "source": [
    "import torch\n",
    "import torchvision.transforms as tt\n",
    "import pandas as pd\n",
    "import cv2\n",
    "import os\n",
    "from ZeroShotDataset import ZeroShotDataset\n",
    "from torchvision.datasets import ImageFolder\n",
    "from torchvision.transforms import ToTensor, Normalize\n",
    "from torch.utils.data.dataloader import DataLoader\n",
    "from transformers import CLIPProcessor\n",
    "from params import *\n",
    "from tqdm import tqdm"
   ]
  },
  {
   "cell_type": "code",
   "execution_count": 2,
   "metadata": {},
   "outputs": [],
   "source": [
    "# train_df = pd.read_csv(TrainParams.TRAIN_CSV_PATH)\n",
    "# clip_processor = CLIPProcessor.from_pretrained('openai/clip-vit-base-patch16')\n",
    "# train_dataset = ImageFolder( TrainParams.DATASET_IMAGE_FOLDER, tt.Compose([tt.Resize(TrainParams.IMAGE_SIZE), tt.ToTensor() ]))\n",
    "# train_loader = torch.utils.data.DataLoader(train_dataset, batch_size=TrainParams.BATCH_SIZE, shuffle=True, collate_fn=train_dataset.collate_fn, num_workers=TrainParams.NUM_WORKERS)"
   ]
  },
  {
   "cell_type": "code",
   "execution_count": 3,
   "metadata": {},
   "outputs": [
    {
     "name": "stderr",
     "output_type": "stream",
     "text": [
      "100%|██████████| 118279/118279 [43:28<00:00, 45.34it/s]"
     ]
    },
    {
     "name": "stdout",
     "output_type": "stream",
     "text": [
      "[0.46955295 0.44641594 0.4071987 ] [0.23915376 0.23444681 0.23751133]\n"
     ]
    },
    {
     "name": "stderr",
     "output_type": "stream",
     "text": [
      "\n"
     ]
    }
   ],
   "source": [
    "im_list = os.listdir(TrainParams.DATASET_IMAGE_FOLDER_TRAIN)\n",
    "\n",
    "mean, std = 0., 0.\n",
    "\n",
    "for im in tqdm(im_list):\n",
    "    im = cv2.imread(TrainParams.DATASET_IMAGE_FOLDER_TRAIN + im)\n",
    "    im = cv2.cvtColor(im, cv2.COLOR_BGR2RGB)\n",
    "    im = im / 255.\n",
    "    mean += im.mean(axis=(0, 1))\n",
    "    std += im.std(axis=(0, 1))\n",
    "    # print(mean, std)\n",
    "\n",
    "mean /= len(im_list)\n",
    "std /= len(im_list)\n",
    "\n",
    "print(mean, std)"
   ]
  }
 ],
 "metadata": {
  "kernelspec": {
   "display_name": "AI",
   "language": "python",
   "name": "python3"
  },
  "language_info": {
   "codemirror_mode": {
    "name": "ipython",
    "version": 3
   },
   "file_extension": ".py",
   "mimetype": "text/x-python",
   "name": "python",
   "nbconvert_exporter": "python",
   "pygments_lexer": "ipython3",
   "version": "3.10.9"
  },
  "orig_nbformat": 4
 },
 "nbformat": 4,
 "nbformat_minor": 2
}
