{
 "cells": [
  {
   "cell_type": "code",
   "execution_count": 1,
   "metadata": {},
   "outputs": [],
   "source": [
    "import warnings\n",
    "warnings.filterwarnings('ignore')\n",
    "\n",
    "import torch\n",
    "import torch.nn as nn\n",
    "import torch.nn.functional as F\n",
    "from transformers import CLIPProcessor, CLIPModel\n",
    "import pandas as pd\n",
    "\n",
    "import torchvision\n",
    "import pytorch_lightning as pl\n",
    "\n",
    "from ConditionedSegFormer import ConditionedSegFormer\n",
    "import torchmetrics as tm\n",
    "from torch.utils.data import Dataset, DataLoader\n",
    "from pytorch_lightning.callbacks import ModelCheckpoint, LearningRateMonitor\n",
    "from LossFunc import *\n",
    "from params import *"
   ]
  },
  {
   "cell_type": "code",
   "execution_count": 2,
   "metadata": {},
   "outputs": [],
   "source": [
    "class CLIPConditionedSegFormer(pl.LightningModule):\n",
    "    def __init__(self):\n",
    "        super().__init__()\n",
    "        self.clip = CLIPModel.from_pretrained('openai/clip-vit-base-patch32').text_model\n",
    "\n",
    "        self.segformer = ConditionedSegFormer(\n",
    "            ModelParams.INCHANNELS,\n",
    "            ModelParams.WIDTHS,\n",
    "            ModelParams.DEPTHS,\n",
    "            512,\n",
    "            ModelParams.PATCH_SIZES,\n",
    "            ModelParams.OVERLAP_SIZES,\n",
    "            ModelParams.REDUCTION_RATIOS,\n",
    "            ModelParams.NUM_HEADS,\n",
    "            ModelParams.EXPANSION_FACTORS,\n",
    "            ModelParams.DECODER_CHANNELS,\n",
    "            ModelParams.SCALE_FACTORS\n",
    "        )\n",
    "\n",
    "        self.plot_every = TrainParams.PLOT_EVERY\n",
    "\n",
    "        self.neloss = NELoss(LossParams.ALPHA, LossParams.BETA)\n",
    "\n",
    "        self.acc = tm.Accuracy(task=\"binary\", threshold=LossParams.THRESHOLD)\n",
    "        self.dice = DiceLoss()\n",
    "        self.iou = IoULoss(LossParams.THRESHOLD)\n",
    "        self.f1score = tm.F1Score(task=\"binary\", threshold=LossParams.THRESHOLD)\n",
    "\n",
    "        # freeze CLIP\n",
    "        for param in self.clip.parameters():\n",
    "            param.requires_grad = False\n",
    "\n",
    "    def forward(self, x, condition):\n",
    "        condition = self.clip(condition).last_hidden_state\n",
    "        return self.segformer(x, condition)\n",
    "    \n",
    "    def training_step(self, batch, batch_idx):\n",
    "        x, y, condition = batch\n",
    "        y_hat = self(x, condition)\n",
    "        loss = self.neloss(y_hat, y)\n",
    "        self.log(\"train_loss\", loss, prog_bar=True)\n",
    "\n",
    "        if self.global_step % self.plot_every == 0: \n",
    "            y = y.repeat(1, 3, 1, 1)\n",
    "            y_hat = y_hat.repeat(1, 3, 1, 1)\n",
    "\n",
    "            # x_grid = torchvision.utils.make_grid(train_dataset.image_inverse_transform(x))\n",
    "            # self.logger.experiment.add_image('train_sample_image', x_grid, self.global_step)\n",
    "\n",
    "            grid = torchvision.utils.make_grid(torch.cat([y, y_hat], dim=0))\n",
    "            self.logger.experiment.add_image('train_sample_mask', grid, self.global_step)\n",
    "\n",
    "        return loss\n",
    "    \n",
    "    def validation_step(self, batch, batch_idx):\n",
    "        x, y, condition = batch\n",
    "        y_hat = self(x, condition)\n",
    "        loss = self.neloss(y_hat, y)\n",
    "        self.log(\"val_loss\", loss, prog_bar=True)\n",
    "        return loss\n",
    "    \n",
    "    def test_step(self, batch, batch_idx):\n",
    "        x, y, condition = batch\n",
    "        y_hat = self(x, condition)\n",
    "\n",
    "        t_y_hat = torch.where(y_hat > 0.5, 1, 0).long()\n",
    "        t_y = torch.where(y > 0.5, 1, 0).long()\n",
    "\n",
    "        acc = self.acc(t_y_hat, t_y)\n",
    "        dice = self.dice(y_hat, y)\n",
    "        iou = self.iou(y_hat, y)\n",
    "        f1 = self.f1score(t_y_hat, t_y)\n",
    "\n",
    "        self.log(\"test_acc\", acc, prog_bar=True)\n",
    "        self.log(\"test_dice\", dice, prog_bar=True)\n",
    "        self.log(\"test_iou\", iou, prog_bar=True)\n",
    "        self.log(\"test_f1\", f1, prog_bar=True)\n",
    "    \n",
    "    def configure_optimizers(self):\n",
    "        optimizer = torch.optim.AdamW(self.parameters(), lr=1e-4, betas=(0.9, 0.98), eps=1e-7)\n",
    "        scheduler = torch.optim.lr_scheduler.StepLR(optimizer, step_size=2000, gamma=0.99)\n",
    "        return {\n",
    "            \"optimizer\": optimizer, \n",
    "            \"lr_scheduler\": {\n",
    "                \"scheduler\": scheduler,\n",
    "                \"interval\": \"step\",\n",
    "                \"frequency\": 1\n",
    "            }         \n",
    "        }"
   ]
  },
  {
   "cell_type": "code",
   "execution_count": 3,
   "metadata": {},
   "outputs": [],
   "source": [
    "model = CLIPConditionedSegFormer()"
   ]
  },
  {
   "cell_type": "code",
   "execution_count": 4,
   "metadata": {},
   "outputs": [],
   "source": [
    "image = torch.randn(1, 3, 256, 256)\n",
    "condition = torch.randint(0, 10000, (1, 77))\n"
   ]
  },
  {
   "cell_type": "code",
   "execution_count": 5,
   "metadata": {},
   "outputs": [],
   "source": [
    "out = model(image, condition)"
   ]
  },
  {
   "cell_type": "code",
   "execution_count": 6,
   "metadata": {},
   "outputs": [
    {
     "data": {
      "text/plain": [
       "torch.Size([1, 1, 64, 64])"
      ]
     },
     "execution_count": 6,
     "metadata": {},
     "output_type": "execute_result"
    }
   ],
   "source": [
    "out.shape"
   ]
  },
  {
   "cell_type": "code",
   "execution_count": 7,
   "metadata": {},
   "outputs": [
    {
     "name": "stderr",
     "output_type": "stream",
     "text": [
      "GPU available: True (cuda), used: True\n",
      "TPU available: False, using: 0 TPU cores\n",
      "IPU available: False, using: 0 IPUs\n",
      "HPU available: False, using: 0 HPUs\n"
     ]
    }
   ],
   "source": [
    "trainer = pl.Trainer(\n",
    "    accelerator=\"gpu\",\n",
    "    max_epochs=TrainParams.EPOCHS,\n",
    "    callbacks=[\n",
    "        ModelCheckpoint(\n",
    "            monitor=\"val_loss\",\n",
    "            filename=\"clip_conditioned_segformer-{epoch:02d}-{val_loss:.2f}\",\n",
    "            save_top_k=3,\n",
    "            mode=\"min\"\n",
    "        ),\n",
    "        LearningRateMonitor(logging_interval='step')\n",
    "    ]\n",
    ")"
   ]
  }
 ],
 "metadata": {
  "kernelspec": {
   "display_name": "pytorch",
   "language": "python",
   "name": "python3"
  },
  "language_info": {
   "codemirror_mode": {
    "name": "ipython",
    "version": 3
   },
   "file_extension": ".py",
   "mimetype": "text/x-python",
   "name": "python",
   "nbconvert_exporter": "python",
   "pygments_lexer": "ipython3",
   "version": "3.9.16"
  },
  "orig_nbformat": 4
 },
 "nbformat": 4,
 "nbformat_minor": 2
}
