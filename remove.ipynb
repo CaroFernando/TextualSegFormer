{
 "cells": [
  {
   "cell_type": "code",
   "execution_count": 53,
   "metadata": {},
   "outputs": [],
   "source": [
    "import torch\n",
    "import torch.nn as nn\n",
    "import torch.optim as opt"
   ]
  },
  {
   "cell_type": "code",
   "execution_count": 54,
   "metadata": {},
   "outputs": [],
   "source": [
    "train_x = [[1., 2., 3.], [2., 3., 4.], [3., 4., 5.]]\n",
    "train_y = [[6.], [9.], [12]]\n",
    "test_x = [[4., 5., 6.], [5., 6., 7.,]]\n",
    "test_y = [[15.], [18.]]\n",
    "\n",
    "train_x = torch.FloatTensor(train_x)\n",
    "train_y = torch.FloatTensor(train_y)\n",
    "test_x = torch.FloatTensor(test_x)\n",
    "test_y = torch.FloatTensor(test_y)"
   ]
  },
  {
   "cell_type": "code",
   "execution_count": 55,
   "metadata": {},
   "outputs": [],
   "source": [
    "class Model(nn.Module):\n",
    "\n",
    "    def __init__(self):\n",
    "        super().__init__()\n",
    "        self.linear = nn.Linear(3,1)\n",
    "\n",
    "    def forward(self, x):\n",
    "        return self.linear(x)\n",
    "    \n",
    "loss_fn = nn.MSELoss()\n",
    "EPOCHS = 10000\n",
    "model = Model()\n",
    "optimizer = opt.Adam(lr=0.001, params=model.parameters())"
   ]
  },
  {
   "cell_type": "code",
   "execution_count": 57,
   "metadata": {},
   "outputs": [],
   "source": [
    "for i in range(EPOCHS):\n",
    "    optimizer.zero_grad()\n",
    "    pred = model(train_x)\n",
    "    out = loss_fn(pred, train_y)\n",
    "    out.backward()\n",
    "    optimizer.step()"
   ]
  },
  {
   "cell_type": "code",
   "execution_count": 58,
   "metadata": {},
   "outputs": [
    {
     "name": "stdout",
     "output_type": "stream",
     "text": [
      "torch.Size([2, 3])\n",
      "tensor([[14.9681],\n",
      "        [17.9504]])\n",
      "tensor([[15.],\n",
      "        [18.]])\n"
     ]
    }
   ],
   "source": [
    "with torch.no_grad():\n",
    "\n",
    "    pred = model(test_x)\n",
    "\n",
    "    print(pred)\n",
    "    print(test_y)"
   ]
  }
 ],
 "metadata": {
  "kernelspec": {
   "display_name": "Python 3",
   "language": "python",
   "name": "python3"
  },
  "language_info": {
   "codemirror_mode": {
    "name": "ipython",
    "version": 3
   },
   "file_extension": ".py",
   "mimetype": "text/x-python",
   "name": "python",
   "nbconvert_exporter": "python",
   "pygments_lexer": "ipython3",
   "version": "3.9.13"
  },
  "orig_nbformat": 4
 },
 "nbformat": 4,
 "nbformat_minor": 2
}
